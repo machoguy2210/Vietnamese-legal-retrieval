{
 "cells": [
  {
   "cell_type": "markdown",
   "metadata": {},
   "source": [
    "# Zalo collection"
   ]
  },
  {
   "cell_type": "markdown",
   "metadata": {},
   "source": [
    "## Connect to zalo cluster db"
   ]
  },
  {
   "cell_type": "code",
   "execution_count": 1,
   "metadata": {},
   "outputs": [],
   "source": [
    "import weaviate\n",
    "import weaviate.classes as wvc\n",
    "from weaviate.classes.query import Filter\n",
    "from weaviate.classes.config import Configure\n",
    "import os\n",
    "# import requests\n",
    "from dotenv import load_dotenv\n",
    "\n",
    "load_dotenv()\n",
    "\n",
    "# Best practice: store your credentials in environment variables\n",
    "wcd_url = os.environ[\"WCD_URL_2\"]\n",
    "wcd_api_key = os.environ['WCD_APIKEY_2']\n",
    "huggingface_key = os.environ['HUGGINGFACE_WEAVIATE']\n",
    "headers = {\n",
    "    \"X-HuggingFace-Api-Key\": huggingface_key,\n",
    "}\n",
    "\n",
    "\n",
    "zalo_client = weaviate.connect_to_weaviate_cloud(\n",
    "    cluster_url=wcd_url,                                    # Replace with your Weaviate Cloud URL\n",
    "    auth_credentials=wvc.init.Auth.api_key(wcd_api_key),    # Replace with your Weaviate Cloud key           \n",
    "    headers=headers,\n",
    "    additional_config=wvc.init.AdditionalConfig(timeout=wvc.init.Timeout(init=100))     \n",
    ")"
   ]
  },
  {
   "cell_type": "markdown",
   "metadata": {},
   "source": [
    "## Create new zalo collection"
   ]
  },
  {
   "cell_type": "code",
   "execution_count": 7,
   "metadata": {},
   "outputs": [],
   "source": [
    "zalo_collection = zalo_client.collections.create(\n",
    "        name=\"Legalcorpus\",\n",
    "        properties=[\n",
    "            wvc.config.Property(\n",
    "                name=\"number\",\n",
    "                data_type=wvc.config.DataType.TEXT,\n",
    "                vectorize_property_name=False,\n",
    "                skip_vectorization=True\n",
    "            ),\n",
    "            wvc.config.Property(\n",
    "                name=\"lawid\",\n",
    "                data_type=wvc.config.DataType.TEXT,\n",
    "                vectorize_property_name=False,\n",
    "                skip_vectorization=True\n",
    "            ),\n",
    "            wvc.config.Property(\n",
    "                name=\"article_id\",\n",
    "                data_type=wvc.config.DataType.TEXT,  \n",
    "                vectorize_property_name=False,\n",
    "                skip_vectorization=True\n",
    "            ),\n",
    "            wvc.config.Property(\n",
    "                name=\"title\",\n",
    "                data_type=wvc.config.DataType.TEXT,\n",
    "                vectorize_property_name=False,\n",
    "                skip_vectorization=True\n",
    "            ),\n",
    "            wvc.config.Property(\n",
    "                name=\"text\",\n",
    "                data_type=wvc.config.DataType.TEXT,\n",
    "                vectorize_property_name=False,\n",
    "                skip_vectorization=True\n",
    "            ),\n",
    "        ],\n",
    "        inverted_index_config=wvc.config.Configure.inverted_index(\n",
    "            index_null_state=True,\n",
    "            index_property_length=True,\n",
    "            index_timestamps=True\n",
    "        ),\n",
    "    )\n",
    "zalo_collection = zalo_client.collections.get(name=\"legalcorpus\")"
   ]
  },
  {
   "cell_type": "code",
   "execution_count": 2,
   "metadata": {},
   "outputs": [],
   "source": [
    "zalo_collection = zalo_client.collections.get(name=\"Legalcorpus\")"
   ]
  },
  {
   "cell_type": "code",
   "execution_count": 6,
   "metadata": {},
   "outputs": [],
   "source": [
    "zalo_client.collections.delete(name=\"Legalcorpus\")"
   ]
  },
  {
   "cell_type": "markdown",
   "metadata": {},
   "source": [
    "## Load data to upload to cloud"
   ]
  },
  {
   "cell_type": "code",
   "execution_count": 8,
   "metadata": {},
   "outputs": [
    {
     "data": {
      "text/plain": [
       "106933"
      ]
     },
     "execution_count": 8,
     "metadata": {},
     "output_type": "execute_result"
    }
   ],
   "source": [
    "import json\n",
    "with open('E:\\\\Code\\\\DeepLeaning\\\\zalo_chunks.jsonl', 'r', encoding=\"utf-8\") as f:\n",
    "    zalo_data = [json.loads(line) for line in f]\n",
    "    \n",
    "len(zalo_data)\n"
   ]
  },
  {
   "cell_type": "code",
   "execution_count": 6,
   "metadata": {},
   "outputs": [
    {
     "data": {
      "text/plain": [
       "{'number': '1',\n",
       " 'lawid:': '01/2009/tt-bnn',\n",
       " 'article_id': '1',\n",
       " 'title': 'Điều 1. Phạm vi áp dụng',\n",
       " 'text': 'Thông tư này hướng dẫn tuần tra, canh gác bảo vệ đê Điều trong mùa lũ đối với các tuyến đê sông được phân loại, phân cấp theo quy định tại Điều 4 của Luật Đê Điều.'}"
      ]
     },
     "execution_count": 6,
     "metadata": {},
     "output_type": "execute_result"
    }
   ],
   "source": [
    "zalo_data[0]"
   ]
  },
  {
   "cell_type": "code",
   "execution_count": 10,
   "metadata": {},
   "outputs": [
    {
     "name": "stdout",
     "output_type": "stream",
     "text": [
      "20000 20000\n",
      "20000 20000\n",
      "20000 20000\n",
      "20000 20000\n",
      "20000 20000\n",
      "6933 6933\n"
     ]
    }
   ],
   "source": [
    "import pickle\n",
    "for i in range(6):\n",
    "    temp_data = zalo_data[i * 20000: (i + 1) * 20000]\n",
    "    if i == 5:\n",
    "        temp_data = zalo_data[i * 20000:]\n",
    "    \n",
    "    with open(f\"E:\\\\Code\\\\DeepLeaning\\\\Vietnamese-legal-retriever\\\\data\\\\zalo_embeddings_bkai_synthetic\\\\zalo_embeddings_{i}.pkl\", \"rb\") as f:\n",
    "        embeddings = pickle.load(f)\n",
    "    \n",
    "    print(len(temp_data),len(embeddings))\n",
    "    if len(embeddings) == len(temp_data):\n",
    "        with zalo_collection.batch.dynamic() as batch:\n",
    "            for idx, doc in enumerate(temp_data):\n",
    "                batch.add_object(\n",
    "                    properties=doc,\n",
    "                    vector=embeddings[idx]\n",
    "                )\n",
    "    else:\n",
    "        print(\"Error\")\n",
    "        break\n",
    "    \n",
    "\n"
   ]
  },
  {
   "cell_type": "code",
   "execution_count": 14,
   "metadata": {},
   "outputs": [
    {
     "data": {
      "text/plain": [
       "-0.07930457"
      ]
     },
     "execution_count": 14,
     "metadata": {},
     "output_type": "execute_result"
    }
   ],
   "source": [
    "embeddings[0][0]"
   ]
  },
  {
   "cell_type": "markdown",
   "metadata": {},
   "source": [
    "## Read all object"
   ]
  },
  {
   "cell_type": "code",
   "execution_count": 20,
   "metadata": {},
   "outputs": [
    {
     "name": "stdout",
     "output_type": "stream",
     "text": [
      "106933\n"
     ]
    }
   ],
   "source": [
    "count = 0\n",
    "for item in zalo_collection.iterator(include_vector=True):\n",
    "    count += 1\n",
    "\n",
    "print(count)"
   ]
  },
  {
   "cell_type": "code",
   "execution_count": 7,
   "metadata": {},
   "outputs": [
    {
     "name": "stdout",
     "output_type": "stream",
     "text": [
      "{'text': 'Thông tư này hướng dẫn tuần tra, canh gác bảo vệ đê Điều trong mùa lũ đối với các tuyến đê sông được phân loại, phân cấp theo quy định tại Điều 4 của Luật Đê Điều.', 'number': '1', 'title': 'Điều 1. Phạm vi áp dụng', 'lawid': '01/2009/tt-bnn', 'article_id': '1'}\n",
      "{}\n"
     ]
    }
   ],
   "source": [
    "for item in zalo_collection.iterator(include_vector=True):\n",
    "    print(item.properties)\n",
    "    print(item.vector)"
   ]
  },
  {
   "cell_type": "markdown",
   "metadata": {},
   "source": [
    "## Mine hard negative"
   ]
  },
  {
   "cell_type": "code",
   "execution_count": 3,
   "metadata": {},
   "outputs": [
    {
     "name": "stderr",
     "output_type": "stream",
     "text": [
      "c:\\Users\\legen\\anaconda3\\envs\\legal-retriever\\lib\\site-packages\\sentence_transformers\\cross_encoder\\CrossEncoder.py:13: TqdmWarning: IProgress not found. Please update jupyter and ipywidgets. See https://ipywidgets.readthedocs.io/en/stable/user_install.html\n",
      "  from tqdm.autonotebook import tqdm, trange\n"
     ]
    },
    {
     "data": {
      "text/plain": [
       "OrderedDict([('0',\n",
       "              Transformer({'max_seq_length': 256, 'do_lower_case': False}) with Transformer model: RobertaModel ),\n",
       "             ('1',\n",
       "              Pooling({'word_embedding_dimension': 768, 'pooling_mode_cls_token': False, 'pooling_mode_mean_tokens': True, 'pooling_mode_max_tokens': False, 'pooling_mode_mean_sqrt_len_tokens': False, 'pooling_mode_weightedmean_tokens': False, 'pooling_mode_lasttoken': False, 'include_prompt': True}))])"
      ]
     },
     "execution_count": 3,
     "metadata": {},
     "output_type": "execute_result"
    }
   ],
   "source": [
    "from sentence_transformers import SentenceTransformer\n",
    "\n",
    "model = SentenceTransformer('bkai-foundation-models/vietnamese-bi-encoder')\n",
    "\n",
    "model._modules"
   ]
  },
  {
   "cell_type": "code",
   "execution_count": 4,
   "metadata": {},
   "outputs": [],
   "source": [
    "from FlagEmbedding import FlagReranker\n",
    "from underthesea import word_tokenize\n",
    "\n",
    "reranker = FlagReranker(\"BAAI/bge-reranker-v2-m3\",use_fp16=True)"
   ]
  },
  {
   "cell_type": "code",
   "execution_count": 5,
   "metadata": {},
   "outputs": [
    {
     "data": {
      "text/plain": [
       "2556"
      ]
     },
     "execution_count": 5,
     "metadata": {},
     "output_type": "execute_result"
    }
   ],
   "source": [
    "import json\n",
    "with open(\"E:\\\\Code\\\\DeepLeaning\\\\zalo_train_data.json\", \"r\", encoding=\"utf-8\") as f:\n",
    "    data = json.load(f)\n",
    "\n",
    "len(data)"
   ]
  },
  {
   "cell_type": "code",
   "execution_count": 7,
   "metadata": {},
   "outputs": [
    {
     "name": "stdout",
     "output_type": "stream",
     "text": [
      "4359\n"
     ]
    }
   ],
   "source": [
    "train_data = []\n",
    "\n",
    "for sample in data:\n",
    "    question = sample[\"question\"]\n",
    "    question_embedding = model.encode(word_tokenize(question, format=\"text\"))\n",
    "    neg = []\n",
    "    pos = []\n",
    "\n",
    "    response = zalo_collection.query.near_vector(question_embedding, limit=20)\n",
    "    \n",
    "    for o in response.objects:\n",
    "        insert_neg = True\n",
    "        for relevant_article in sample[\"relevant_articles\"]:\n",
    "            if o.properties[\"lawid\"] == relevant_article[\"law_id\"] and o.properties[\"article_id\"] == relevant_article[\"article_id\"]:\n",
    "                insert_neg = False\n",
    "                break\n",
    "        if insert_neg:\n",
    "            neg.append(f\"{o.properties['title']}: {o.properties['text']}\".lower())\n",
    "    \n",
    "    if len(neg) == 0:\n",
    "        continue\n",
    "            \n",
    "    for relevant_article in sample[\"relevant_articles\"]:\n",
    "        response = zalo_collection.query.fetch_objects(filters=Filter.by_property(\"lawid\").equal(relevant_article[\"law_id\"]) & Filter.by_property(\"article_id\").equal(relevant_article[\"article_id\"]))\n",
    "\n",
    "        for o in response.objects:\n",
    "            pos.append(f\"{o.properties['title']}: {o.properties['text']}\".lower())\n",
    "            \n",
    "    pos_pairs = [[question, p] for p in pos]\n",
    "    neg_pairs = [[question, n] for n in neg]\n",
    "    pos_scores = reranker.compute_score(pos_pairs, normalize=True)\n",
    "    neg_scores = reranker.compute_score(neg_pairs, normalize=True)\n",
    "    \n",
    "    pos = [positive for positive, score in sorted(zip(pos, pos_scores), key=lambda pair: pair[1], reverse=True) if score > 0.7]\n",
    "    neg = [negative for negative, score in sorted(zip(neg, neg_scores), key=lambda pair: pair[1], reverse=True) if score > 0.5]\n",
    "    if len(pos) == 0:\n",
    "        continue\n",
    "\n",
    "    \n",
    "    ratio  = len(neg) // len(pos)\n",
    "    if ratio < 1:\n",
    "        for i in range(len(neg)):\n",
    "            train_data.append({\"question\": question, \"positive\": pos[i], \"negative\": neg[i]})\n",
    "        for i in range(len(neg), len(pos)):\n",
    "            train_data.append({\"question\": question, \"positive\": pos[i]})\n",
    "    else:\n",
    "        neg = neg[:len(pos)]\n",
    "        for i in range(len(pos)):\n",
    "            train_data.append({\"question\": question, \"positive\": pos[i], \"negative\": neg[i]})\n",
    "\n",
    "import json\n",
    "\n",
    "\n",
    "print(len(train_data))\n",
    "\n",
    "with open(\"E:\\\\Code\\\\DeepLeaning\\\\zalo_train_data_with_neg.jsonl\", \"w\", encoding=\"utf-8\") as f:\n",
    "    for item in train_data:\n",
    "        f.write(json.dumps(item, ensure_ascii=False) + \"\\n\")\n"
   ]
  },
  {
   "cell_type": "markdown",
   "metadata": {},
   "source": [
    "## Evaluate the accuracy of the retrieval module"
   ]
  },
  {
   "cell_type": "code",
   "execution_count": 11,
   "metadata": {},
   "outputs": [
    {
     "name": "stdout",
     "output_type": "stream",
     "text": [
      "640\n",
      "640\n"
     ]
    }
   ],
   "source": [
    "import json\n",
    "import pickle\n",
    "\n",
    "with open(\"E:\\\\Code\\\\DeepLeaning\\\\zalo_test_data.json\", \"r\", encoding=\"utf-8\") as f:\n",
    "    test_data = json.load(f)\n",
    "\n",
    "with open(\"E:\\\\Code\\\\DeepLeaning\\\\Vietnamese-legal-retriever\\\\data\\\\zalo_embeddings_bkai_synthetic\\\\zalo_test_embedding.pkl\", \"rb\") as f:\n",
    "    query_embeddings = pickle.load(f)\n",
    "    \n",
    "print(len(test_data))\n",
    "print(len(query_embeddings))\n"
   ]
  },
  {
   "cell_type": "code",
   "execution_count": 36,
   "metadata": {},
   "outputs": [],
   "source": [
    "from FlagEmbedding import FlagReranker\n",
    "reranker = FlagReranker('BAAI/bge-reranker-v2-m3', use_fp16=True)"
   ]
  },
  {
   "cell_type": "code",
   "execution_count": 12,
   "metadata": {},
   "outputs": [
    {
     "name": "stdout",
     "output_type": "stream",
     "text": [
      "Mrr @ 1:  0.7078125\n",
      "Mrr @ 10:  0.798529885912698\n",
      "Mrr @ 100:  0.8013265733248194\n",
      "\n",
      "\n",
      "Acc @ 1:  0.7078125\n",
      "Acc @ 10:  0.94375\n",
      "Acc @ 100:  0.9921875\n"
     ]
    }
   ],
   "source": [
    "mrr_100 = []\n",
    "mrr_1 = []\n",
    "mrr_10 = []\n",
    "\n",
    "acc_1 = []\n",
    "acc_10 = []\n",
    "acc_100 = []\n",
    "\n",
    "for idx, question in enumerate(test_data):\n",
    "    query = question[\"question\"]\n",
    "    response = zalo_collection.query.near_vector(query_embeddings[idx], limit=100)\n",
    "    found_idx = -1\n",
    "    # pair = [[query, item.properties['text']] for item in response.objects]\n",
    "    # scores = reranker.compute_score(pair)\n",
    "    # rerank_objects = [ object[0] for object in sorted(list(zip(response.objects, scores)), key=lambda x: x[1], reverse=True)]\n",
    "    # for idx, object in enumerate(rerank_objects):\n",
    "    for idx, object in enumerate(response.objects):\n",
    "        for relevant_article in question[\"relevant_articles\"]:\n",
    "            if object.properties[\"lawid\"] == relevant_article[\"law_id\"] and object.properties[\"article_id\"] == relevant_article[\"article_id\"]:\n",
    "                found_idx = idx\n",
    "                break\n",
    "        if found_idx != -1:\n",
    "            break\n",
    "    if found_idx != -1:\n",
    "        mrr_100.append(1/(found_idx + 1))\n",
    "        acc_100.append(1)\n",
    "        if found_idx == 0:\n",
    "            mrr_1.append(1)\n",
    "            acc_1.append(1)\n",
    "        else:\n",
    "            mrr_1.append(0)\n",
    "            acc_1.append(0)\n",
    "        if found_idx < 10:\n",
    "            mrr_10.append(1/(found_idx + 1))\n",
    "            acc_10.append(1)\n",
    "        else:\n",
    "            mrr_10.append(0)\n",
    "            acc_10.append(0)\n",
    "    else:\n",
    "        mrr_100.append(0)\n",
    "        mrr_1.append(0)\n",
    "        mrr_10.append(0)\n",
    "        acc_100.append(0)\n",
    "        acc_1.append(0)\n",
    "        acc_10.append(0)\n",
    "        \n",
    "mrr_count_1 = sum(mrr_1) / len(mrr_1)\n",
    "\n",
    "mrr_count_10 = sum(mrr_10) / len(mrr_10)\n",
    "    \n",
    "mrr_count_100 = sum(mrr_100) / len(mrr_100)\n",
    "\n",
    "print(\"Mrr @ 1: \", mrr_count_1)\n",
    "print(\"Mrr @ 10: \", mrr_count_10)\n",
    "print(\"Mrr @ 100: \", mrr_count_100)\n",
    "print(\"\\n\")\n",
    "acc_count_1 = sum(acc_1) / len(acc_1)\n",
    "acc_count_10 = sum(acc_10) / len(acc_10)\n",
    "acc_count_100 = sum(acc_100) / len(acc_100)\n",
    "\n",
    "print(\"Acc @ 1: \", acc_count_1)\n",
    "print(\"Acc @ 10: \", acc_count_10)\n",
    "print(\"Acc @ 100: \", acc_count_100)\n",
    "    \n",
    "\n",
    "    \n",
    "    \n"
   ]
  },
  {
   "cell_type": "markdown",
   "metadata": {},
   "source": [
    "## Query"
   ]
  },
  {
   "cell_type": "markdown",
   "metadata": {},
   "source": [
    "## Close the connection\n"
   ]
  },
  {
   "cell_type": "code",
   "execution_count": 13,
   "metadata": {},
   "outputs": [],
   "source": [
    "zalo_client.close()"
   ]
  },
  {
   "cell_type": "markdown",
   "metadata": {},
   "source": [
    "# VBPL collection"
   ]
  },
  {
   "cell_type": "markdown",
   "metadata": {},
   "source": [
    "## Connect vbpl cloud machine"
   ]
  },
  {
   "cell_type": "code",
   "execution_count": 1,
   "metadata": {},
   "outputs": [],
   "source": [
    "import weaviate\n",
    "import weaviate.classes as wvc\n",
    "from weaviate.classes.query import Filter\n",
    "from weaviate.classes.config import Configure\n",
    "import os\n",
    "# import requests\n",
    "from dotenv import load_dotenv\n",
    "\n",
    "load_dotenv()\n",
    "\n",
    "# Best practice: store your credentials in environment variables\n",
    "wcd_url = os.environ[\"WCD_URL_2\"]\n",
    "wcd_api_key = os.environ['WCD_APIKEY_2']\n",
    "huggingface_key = os.environ['HUGGINGFACE_WEAVIATE']\n",
    "headers = {\n",
    "    \"X-HuggingFace-Api-Key\": huggingface_key,\n",
    "}\n",
    "\n",
    "\n",
    "vbpl_client = weaviate.connect_to_weaviate_cloud(\n",
    "    cluster_url=wcd_url,                                    # Replace with your Weaviate Cloud URL\n",
    "    auth_credentials=wvc.init.Auth.api_key(wcd_api_key),    # Replace with your Weaviate Cloud key           \n",
    "    headers=headers,\n",
    "    additional_config=wvc.init.AdditionalConfig(timeout=wvc.init.Timeout(init=100))     \n",
    ")"
   ]
  },
  {
   "cell_type": "markdown",
   "metadata": {},
   "source": [
    "## Create-delete vbpl collection"
   ]
  },
  {
   "cell_type": "code",
   "execution_count": 3,
   "metadata": {},
   "outputs": [],
   "source": [
    "vbpl_collection = vbpl_client.collections.create(\n",
    "        name=\"vbplcorpus\",\n",
    "        properties=[\n",
    "            wvc.config.Property(\n",
    "                name=\"number\",\n",
    "                data_type=wvc.config.DataType.TEXT,\n",
    "                vectorize_property_name=False,\n",
    "                skip_vectorization=True\n",
    "            ),\n",
    "            wvc.config.Property(\n",
    "                name=\"lawid\",\n",
    "                data_type=wvc.config.DataType.TEXT,\n",
    "                vectorize_property_name=False,\n",
    "                skip_vectorization=True\n",
    "            ),\n",
    "            wvc.config.Property(\n",
    "                name=\"status\",\n",
    "                data_type=wvc.config.DataType.TEXT,\n",
    "                vectorize_property_name=False,\n",
    "                skip_vectorization=True    \n",
    "            ),\n",
    "            wvc.config.Property(\n",
    "                name=\"article_id\",\n",
    "                data_type=wvc.config.DataType.TEXT,  \n",
    "                vectorize_property_name=False,\n",
    "                skip_vectorization=True\n",
    "            ),\n",
    "            wvc.config.Property(\n",
    "                name=\"title\",\n",
    "                data_type=wvc.config.DataType.TEXT,\n",
    "                vectorize_property_name=False,\n",
    "                skip_vectorization=True\n",
    "            ),\n",
    "            wvc.config.Property(\n",
    "                name=\"text\",\n",
    "                data_type=wvc.config.DataType.TEXT,\n",
    "                vectorize_property_name=False,\n",
    "                skip_vectorization=True\n",
    "            ),\n",
    "            wvc.config.Property(\n",
    "                name=\"tokenize_text\",\n",
    "                data_type=wvc.config.DataType.TEXT,\n",
    "                vectorize_property_name=False,\n",
    "                skip_vectorization=True\n",
    "            ),\n",
    "        ],\n",
    "        inverted_index_config=wvc.config.Configure.inverted_index(\n",
    "            index_null_state=True,\n",
    "            index_property_length=True,\n",
    "            index_timestamps=True\n",
    "        ),\n",
    "    )"
   ]
  },
  {
   "cell_type": "code",
   "execution_count": 2,
   "metadata": {},
   "outputs": [],
   "source": [
    "vbpl_collection = vbpl_client.collections.get(name=\"vbplcorpus\")"
   ]
  },
  {
   "cell_type": "code",
   "execution_count": 2,
   "metadata": {},
   "outputs": [],
   "source": [
    "vbpl_client.collections.delete(name=\"vbplcorpus\")"
   ]
  },
  {
   "cell_type": "markdown",
   "metadata": {},
   "source": [
    "## Load data to upload to cloud"
   ]
  },
  {
   "cell_type": "code",
   "execution_count": 4,
   "metadata": {},
   "outputs": [
    {
     "data": {
      "text/plain": [
       "266817"
      ]
     },
     "execution_count": 4,
     "metadata": {},
     "output_type": "execute_result"
    }
   ],
   "source": [
    "import json\n",
    "with open(\"E:\\\\Code\\\\DeepLeaning\\\\Vietnamese-legal-retriever\\\\data\\\\vbpl_data\\\\chunk_0.jsonl\", \"r\", encoding=\"utf-8\") as f:\n",
    "    vbpl_data = [json.loads(line) for line in f]\n",
    "\n",
    "len(vbpl_data)"
   ]
  },
  {
   "cell_type": "code",
   "execution_count": 5,
   "metadata": {},
   "outputs": [
    {
     "name": "stdout",
     "output_type": "stream",
     "text": [
      "20000 20000\n",
      "20000 20000\n",
      "20000 20000\n",
      "20000 20000\n",
      "20000 20000\n",
      "20000 20000\n",
      "20000 20000\n",
      "20000 20000\n",
      "20000 20000\n",
      "20000 20000\n",
      "20000 20000\n",
      "20000 20000\n",
      "20000 20000\n",
      "6817 6817\n"
     ]
    },
    {
     "name": "stderr",
     "output_type": "stream",
     "text": [
      "{'message': 'Failed to send 1000 objects in a batch of 1000. Please inspect client.batch.failed_objects or collection.batch.failed_objects for the failed objects.'}\n",
      "{'message': 'Failed to send 1000 objects in a batch of 1000. Please inspect client.batch.failed_objects or collection.batch.failed_objects for the failed objects.'}\n",
      "{'message': 'Failed to send 1000 objects in a batch of 1000. Please inspect client.batch.failed_objects or collection.batch.failed_objects for the failed objects.'}\n",
      "{'message': 'Failed to send 1000 objects in a batch of 1000. Please inspect client.batch.failed_objects or collection.batch.failed_objects for the failed objects.'}\n",
      "{'message': 'Failed to send 1000 objects in a batch of 1000. Please inspect client.batch.failed_objects or collection.batch.failed_objects for the failed objects.'}\n",
      "{'message': 'Failed to send 1000 objects in a batch of 1000. Please inspect client.batch.failed_objects or collection.batch.failed_objects for the failed objects.'}\n",
      "{'message': 'Failed to send 1000 objects in a batch of 1000. Please inspect client.batch.failed_objects or collection.batch.failed_objects for the failed objects.'}\n",
      "{'message': 'Failed to send 1000 objects in a batch of 1000. Please inspect client.batch.failed_objects or collection.batch.failed_objects for the failed objects.'}\n",
      "{'message': 'Failed to send 1000 objects in a batch of 1000. Please inspect client.batch.failed_objects or collection.batch.failed_objects for the failed objects.'}\n",
      "{'message': 'Failed to send 1000 objects in a batch of 1000. Please inspect client.batch.failed_objects or collection.batch.failed_objects for the failed objects.'}\n",
      "{'message': 'Failed to send 1408 objects in a batch of 1408. Please inspect client.batch.failed_objects or collection.batch.failed_objects for the failed objects.'}\n",
      "{'message': 'Failed to send 1000 objects in a batch of 1000. Please inspect client.batch.failed_objects or collection.batch.failed_objects for the failed objects.'}\n",
      "{'message': 'Failed to send 1000 objects in a batch of 1000. Please inspect client.batch.failed_objects or collection.batch.failed_objects for the failed objects.'}\n",
      "{'message': 'Failed to send 1000 objects in a batch of 1000. Please inspect client.batch.failed_objects or collection.batch.failed_objects for the failed objects.'}\n",
      "{'message': 'Failed to send 1000 objects in a batch of 1000. Please inspect client.batch.failed_objects or collection.batch.failed_objects for the failed objects.'}\n",
      "{'message': 'Failed to send 1000 objects in a batch of 1000. Please inspect client.batch.failed_objects or collection.batch.failed_objects for the failed objects.'}\n",
      "{'message': 'Failed to send 1000 objects in a batch of 1000. Please inspect client.batch.failed_objects or collection.batch.failed_objects for the failed objects.'}\n"
     ]
    }
   ],
   "source": [
    "import pickle\n",
    "for i in range(14):\n",
    "    temp_data = vbpl_data[i * 20000: (i + 1) * 20000]\n",
    "    \n",
    "    with open(f\"E:\\\\Code\\\\DeepLeaning\\\\Vietnamese-legal-retriever\\\\data\\\\vbpl_embeddings_bkai_synthetic\\\\vbpl_embeddings_{i}.pkl\", \"rb\") as f:\n",
    "        embeddings = pickle.load(f)\n",
    "    \n",
    "    print(len(temp_data),len(embeddings))\n",
    "    if len(embeddings) == len(temp_data):\n",
    "        with vbpl_collection.batch.dynamic() as batch:\n",
    "            for idx, doc in enumerate(temp_data):\n",
    "                title = ', '.join(doc[\"title\"])\n",
    "                batch.add_object(\n",
    "                    properties={\n",
    "                        \"number\": doc[\"number\"],\n",
    "                        \"lawid\": doc[\"lawid\"],\n",
    "                        \"status\": doc[\"status\"],\n",
    "                        \"title\": title,\n",
    "                        \"article_id\": None,\n",
    "                        \"text\": doc[\"text\"],\n",
    "                        \"tokenize_text\": doc[\"tokenize_text\"]\n",
    "                    },\n",
    "                    vector=embeddings[idx]\n",
    "                )\n",
    "    else:\n",
    "        print(\"Error\")\n",
    "        break\n"
   ]
  },
  {
   "cell_type": "markdown",
   "metadata": {},
   "source": [
    "## Read objects"
   ]
  },
  {
   "cell_type": "code",
   "execution_count": 4,
   "metadata": {},
   "outputs": [
    {
     "name": "stdout",
     "output_type": "stream",
     "text": [
      "{'text': 'hành thống nhất tỷ lệ cho vay vốn lưu động các đơn vị sản xuất - kinh doanh thuộc các thành phần kinh tế khác nhau. Ngân hàng chuyên nghiệp được quyền hướng dẫn những quy định nghiệp vụ cụ thể sát hợp với điều kiện hoạt động của mình. 8. Việc cho vay vốn cố định các đơn vị kinh tế cũng được đặt trên cơ sở động viên cao nhất vốn tự có của đơn vị vay vốn. Khi cho vay, trước mắt các Ngân hàng chuyên nghiệp phải tập trung vốn phục vụ 3 chương trình kinh tế lớn là sản xuất chế biến lương thực - thực phẩm, hàng tiêu dùng và hàng xuất khẩu. Ngân hàng Nhà nước Việt nam ban hành thống nhất thể lệ cho vay vốn cố định các đơn vị sản xuất - kinh doanh thuộc các thành phần kinh tế khác nhau. Ngân hàng chuyên nghiệp được quyền hướng dẫn những quy định nghiệp vụ cụ thể sát họp với điều kiện hoạt động của mình.', 'number': '253724', 'lawid': '218-CT', 'tokenized_text': 'hành thống_nhất tỷ_lệ cho vay vốn_lưu_động các đơn_vị sản_xuất - kinh_doanh thuộc các thành_phần kinh_tế khác nhau . Ngân_hàng chuyên_nghiệp được quyền hướng_dẫn những quy_định nghiệp_vụ cụ_thể sát_hợp với điều_kiện hoạt_động của mình . 8 . Việc cho vay vốn cố_định các đơn_vị kinh_tế cũng được đặt trên cơ_sở động_viên cao nhất vốn tự_có của đơn_vị vay vốn . Khi cho vay , trước_mắt các Ngân_hàng chuyên_nghiệp phải tập_trung vốn phục_vụ 3 chương_trình kinh_tế lớn là sản_xuất chế_biến lương_thực - thực_phẩm , hàng_tiêu_dùng và hàng xuất_khẩu . Ngân_hàng Nhà_nước Việt_nam ban_hành thống_nhất_thể_lệ cho vay vốn cố_định các đơn_vị sản_xuất - kinh_doanh thuộc các thành_phần kinh_tế khác nhau . Ngân_hàng chuyên_nghiệp được quyền hướng_dẫn những quy_định nghiệp_vụ cụ_thể sát họp với điều_kiện hoạt_động của mình .', 'title': ', Điều 2.- Tổng giám đốc Ngân hàng Nhà nước, Chủ tịch Uỷ ban Nhân dân các tỉnh, thành phố có liên quan chịu trách nhiệm thi hành Quyết định này., Khoản 8, Nội dung', 'status': 'Còn hiệu lực', 'article_id': None}\n",
      "{'default': [0.0005582041922025383, -0.03799658268690109, 0.03947686403989792, -0.016667911782860756, -0.007220113184303045, 0.05142776668071747, 0.029892368242144585, 0.0063380105420947075, -0.006389693822711706, 0.012794784270226955, 0.015980765223503113, 0.02268252708017826, -0.027455005794763565, 0.03675627335906029, -0.02566293627023697, -0.05907472223043442, 0.00015165093645919114, 0.015984298661351204, -0.014580689370632172, -0.00373514904640615, -0.037703704088926315, -0.004257786087691784, -0.060790758579969406, -0.01943873055279255, -0.03694538399577141, -0.014223126694560051, -0.020849958062171936, -0.046660274267196655, -0.002990450942888856, -0.023379096761345863, 0.01745566911995411, -0.010906687937676907, -0.03135322406888008, -0.009626859799027443, 0.023883765563368797, 0.04625903069972992, -0.02969473786652088, -0.018434684723615646, -0.038277432322502136, -0.042491573840379715, 0.013671055436134338, 0.088355652987957, 0.009016656316816807, 0.005966824945062399, -0.0012680761283263564, 0.007277397438883781, 0.029374195262789726, -0.007472427561879158, -0.018350286409258842, 0.03981531411409378, -0.025826826691627502, -0.01166708767414093, 0.0538485161960125, 0.018949493765830994, 0.00620047003030777, 0.02765464410185814, 0.04201430827379227, -0.016414524987339973, -0.009940247051417828, -0.015719003975391388, 0.04064629226922989, 0.002648034133017063, 0.010785193182528019, 0.02259872667491436, 0.03788602352142334, -0.06651200354099274, -0.015943996608257294, 0.029597125947475433, 0.010311811231076717, -0.030763519927859306, 0.02027597650885582, -0.002669298555701971, -0.011166575364768505, 0.008544144220650196, -0.019719095900654793, -0.00017360867059323937, 0.07159395515918732, -0.008833646774291992, 0.06283196806907654, -0.003428227500990033, 0.00786216463893652, -0.054061394184827805, -0.020873380824923515, -0.03293062373995781, -0.009923082776367664, -0.01309729553759098, -0.03549082577228546, 0.046814776957035065, 0.0702497586607933, -0.021122248843312263, -0.0045650796964764595, 0.032486144453287125, -0.03434208035469055, -0.02102849818766117, 0.013318851590156555, 0.0069680423475801945, -0.0880042016506195, -0.011028938926756382, 0.009972801432013512, -0.021049534901976585, 0.015407032333314419, 0.08358856290578842, -0.002114772330969572, -0.01359151303768158, -0.039196040481328964, 0.020029792562127113, -0.0827983096241951, -0.024138620123267174, -0.005752950441092253, -0.015095441602170467, -0.06253819912672043, 0.006711198017001152, 0.019365999847650528, -0.011756322346627712, -0.012948127463459969, -0.005905529018491507, 0.01916542276740074, -0.027610477060079575, 0.07099989056587219, 0.046648282557725906, -0.04580751061439514, -0.07124664634466171, 0.005728937219828367, 0.044269539415836334, -0.04914489760994911, 0.009759682230651379, 0.0008128932677209377, 0.0036405078135430813, -0.0010235816007480025, 0.025549590587615967, 0.029918406158685684, 0.019132982939481735, -0.007388468366116285, -0.02090972103178501, 0.01897248812019825, 0.027462732046842575, -0.0002745688834693283, 0.007691523991525173, -0.016832411289215088, -0.002402970101684332, -0.03133808821439743, 0.003423173911869526, -0.024063047021627426, 0.020377248525619507, 0.05565160885453224, -0.04920608922839165, 0.008414236828684807, -0.014035213738679886, -0.03752372786402702, -0.017801275476813316, 0.06728189438581467, -0.005710504483431578, -0.002875647274777293, 0.02413969859480858, -0.016700880602002144, -0.01255999319255352, 0.038838617503643036, 0.021567821502685547, -0.02463318407535553, 0.023391637951135635, -0.021450353786349297, -0.029644591733813286, 0.06988648325204849, 0.018720846623182297, 0.0006674592732451856, 0.03158162534236908, -0.017318665981292725, 0.0010065226815640926, -0.010616381652653217, 0.06892429292201996, 0.058257121592760086, -0.034041937440633774, -0.0009521255269646645, 0.028456714004278183, 0.03244258090853691, -0.01777791604399681, 0.062411971390247345, 0.012858577072620392, -0.07286576181650162, -0.03750941529870033, -0.03303426504135132, -0.007713843137025833, -0.002610823605209589, 0.07325137406587601, -0.022489992901682854, 0.040173277258872986, -0.011081949807703495, -0.011091663502156734, -0.019772030413150787, -0.03876056522130966, -0.001420949469320476, 0.04276588186621666, 0.005812845658510923, 0.025879094377160072, -0.04284484311938286, -0.07972926646471024, -0.011062775738537312, -0.01725194603204727, -0.04149279370903969, -0.061847660690546036, -0.042737968266010284, 0.04503459483385086, -0.005381168331950903, -0.009508996270596981, 0.03986617177724838, -0.07038460671901703, 0.05093720555305481, 0.04083070531487465, -0.012415165081620216, 0.03038901649415493, -0.040805839002132416, -0.015893051400780678, 0.03830670192837715, 0.03320980817079544, -0.020155543461441994, 0.002261184621602297, -0.06695292890071869, 0.021310269832611084, 0.014469687826931477, -0.010510236024856567, -0.03288600966334343, 0.05170794203877449, 0.018826276063919067, 0.011763062328100204, 0.03724076971411705, 0.05842398479580879, 0.05125107988715172, 0.016384772956371307, -0.00022906721278559417, -0.07562290132045746, 0.012794853188097477, 0.005125059746205807, 0.004993974231183529, 0.06373707950115204, -0.014219447039067745, 0.01782171055674553, -0.0005104272859171033, 0.001392628182657063, -0.005289663095027208, -0.028739841654896736, -0.013617150485515594, -0.0030771621968597174, 0.005321770906448364, -0.042589157819747925, -0.020065033808350563, 0.04729502275586128, -0.03783188760280609, 0.019343333318829536, -0.007286555133759975, -0.024558356031775475, -0.022782661020755768, -0.018144549801945686, -0.045013584196567535, -0.008038916625082493, -0.01358792558312416, 0.023176072165369987, 0.017864415422081947, 0.003107522614300251, 0.03586222603917122, 0.05237674340605736, 0.027742817997932434, -0.028680123388767242, -0.008035787381231785, 0.0298923272639513, -0.027967017143964767, -0.019426129758358, -0.027015039697289467, -0.013796636834740639, -0.037293050438165665, 0.03200424462556839, 0.013450995087623596, 0.0348321832716465, 0.008362000808119774, 0.04248420149087906, -0.003614119254052639, 0.031185561791062355, 0.008122497238218784, -0.044119007885456085, 0.030409904196858406, 0.00910013448446989, -0.001424557762220502, 0.05586475133895874, -0.0021425550803542137, -0.013803163543343544, 0.03468573838472366, 0.02196817472577095, 0.010512891225516796, 0.01791888102889061, -0.0023603152949362993, -0.006541353650391102, 0.042883604764938354, 0.031507305800914764, 0.0637679174542427, -0.013192522339522839, -0.017901301383972168, -0.0201953686773777, 0.012909496203064919, -0.06091197952628136, -0.004394634161144495, -0.026136817410588264, -0.031525202095508575, -0.028259724378585815, -0.0249125137925148, 0.015533414669334888, -0.01589367538690567, -0.003319022711366415, 0.029316645115613937, 0.049343809485435486, -0.012108380906283855, 0.0041601331904530525, 0.03066069819033146, -0.004100933205336332, -0.028922921046614647, 0.00667892349883914, -0.020108915865421295, -0.005045043304562569, -0.025043226778507233, -0.02026817388832569, -0.06943252682685852, -0.007977823726832867, -0.01187852118164301, -0.014916201122105122, -0.02504044584929943, -0.04563421756029129, 0.057438068091869354, -0.029322423040866852, 0.025266176089644432, 0.056781623512506485, 0.04188581183552742, 0.014953730627894402, 0.01573634333908558, -0.011337452568113804, -0.032678186893463135, -0.011486636474728584, -0.04718486964702606, 0.011610242538154125, -0.04500124603509903, -0.0247961338609457, -0.005575087387114763, -0.04795633256435394, -0.0188644677400589, -0.024990344420075417, -0.00869146827608347, -0.009889073669910431, 0.01359914243221283, 0.011380036361515522, 0.006381125655025244, 0.02423747256398201, -0.00045468605821952224, -0.03284653276205063, -0.014239920303225517, -0.04815720021724701, -0.024339834228157997, -0.0005406045820564032, 0.0018213820876553655, 0.025013219565153122, -0.034819941967725754, -0.006834992673248053, -0.025642352178692818, -0.0202348455786705, -0.02832798659801483, -0.04053580388426781, 0.030592309311032295, 0.00077811349183321, 0.04897501692175865, 0.022539380937814713, -0.00021816251683048904, 0.009866193868219852, -0.11848169565200806, -0.018460283055901527, 0.014831005595624447, 0.05120505020022392, 0.014367285184562206, 0.01615152508020401, -0.04730718582868576, -0.020983660593628883, -0.036891449242830276, 0.03559257090091705, 0.03302985429763794, 0.0017188126221299171, 0.0039074840024113655, -0.004331348929554224, -0.007228203117847443, -0.011202151887118816, -0.0390840508043766, 0.027383845299482346, 0.03650587797164917, -0.04263988509774208, 0.022594591602683067, 0.04288565739989281, 0.02928740903735161, 0.005937089677900076, -0.03495205193758011, -0.012103746645152569, 0.010367738083004951, -0.003308757906779647, 0.023066764697432518, -0.039640672504901886, 0.024237828329205513, 0.023236054927110672, 0.008603233844041824, -0.009892728179693222, 0.018129868432879448, 0.008849279023706913, 0.05686712637543678, 0.0006443210295401514, -0.008744783699512482, -0.011944116093218327, -0.018497111275792122, -0.021481195464730263, -0.027478108182549477, -0.05505141243338585, 0.0014745803782716393, -0.030730608850717545, -0.008597047999501228, 0.08275359123945236, -0.055005550384521484, 0.007020249962806702, 0.036977626383304596, -0.07339268922805786, 0.03669195622205734, 0.00282212533056736, -0.058187052607536316, 0.04288613796234131, 0.007369946222752333, 0.09884410351514816, -0.026786910369992256, -0.06726629287004471, -0.03839835897088051, 0.04840594157576561, -0.037507206201553345, 0.03722403943538666, -0.02248738892376423, 0.021126151084899902, -0.02814256027340889, -0.019335778430104256, -0.014921518042683601, -0.013391260989010334, -0.045181754976511, 0.04616374522447586, -0.0006836001412011683, -0.019282003864645958, 0.018930647522211075, -0.004970150534063578, -0.021274548023939133, -0.031110240146517754, 0.013037377037107944, -0.01730284094810486, -0.009534444659948349, 0.014748191460967064, -0.008023572154343128, -0.027097096666693687, -0.03423526883125305, -0.004860963672399521, -0.010085701942443848, -0.017007118090987206, -0.020937804132699966, 0.01901724375784397, 0.039660561829805374, 0.050209518522024155, 0.027191754430532455, 0.03840583935379982, 0.06281225383281708, 0.06088532134890556, -0.019326331093907356, 0.021458759903907776, -0.0314091220498085, 0.07741239666938782, 0.0270113293081522, 0.0001520032383268699, 0.0136540737003088, -0.049173131585121155, 0.03786913678050041, -0.0051187630742788315, 0.02244466170668602, -0.009959033690392971, -0.05176148936152458, 0.02334783971309662, 0.04042632505297661, 0.056053463369607925, 0.037028077989816666, -0.03308021277189255, 0.029112286865711212, 0.014492535032331944, -0.007111961487680674, 0.021129628643393517, 0.027519481256604195, 0.004024058114737272, 0.031213823705911636, 0.005825163330882788, -0.027765734121203423, 0.049000147730112076, -0.0038907849229872227, -0.029334204271435738, 0.03362308070063591, 0.021147742867469788, -0.0447036549448967, 0.028621867299079895, -0.01944831758737564, -0.03994319587945938, 0.041900549083948135, 0.0019199340604245663, -0.05014205724000931, 0.009868774563074112, 0.03530151769518852, 0.038554299622774124, 0.03456082567572594, 0.05375077202916145, -0.025448745116591454, 0.01942959986627102, -0.04816205054521561, -0.024491287767887115, 0.009832031093537807, 0.024563906714320183, 0.00851784460246563, -0.04244380444288254, 0.030123108997941017, 0.0018887958722189069, 0.03612976521253586, -0.02217504009604454, -0.037944644689559937, -0.0033691672142595053, 0.01704278402030468, 0.00668079499155283, -0.006210584193468094, 0.028778722509741783, 0.05909636989235878, -0.03946757689118385, 0.019157111644744873, -0.0015918900026008487, -0.009444497525691986, -0.017097411677241325, 0.006650018971413374, -0.035403501242399216, 0.08675356209278107, 0.034297600388526917, 0.04674411192536354, 0.03392389044165611, -0.010032782331109047, -0.013326873071491718, -0.021345004439353943, -0.0744161382317543, -0.0342421717941761, -0.04491368308663368, 0.07482302933931351, -0.08321242034435272, -0.03226638212800026, -0.041633374989032745, -0.002868589712306857, 0.028488116338849068, -0.04156916216015816, 0.059801407158374786, -0.01980031281709671, 0.07598727941513062, -0.008500575087964535, -0.005615759640932083, 0.003354206681251526, 0.010977150872349739, -0.030395805835723877, 0.016379211097955704, -0.017136935144662857, 0.006217284128069878, -0.0495183989405632, 0.024738457053899765, 0.03628186136484146, -0.015666142106056213, 0.010465599596500397, 0.00025929120602086186, -0.006309111602604389, -0.03217205032706261, 0.04583126679062843, 0.033385053277015686, 0.018577225506305695, -0.03353184461593628, 0.055034734308719635, -0.021050505340099335, 0.02077958732843399, 0.005963136442005634, 0.030933445319533348, 0.00939074158668518, 0.01589341089129448, -0.0011648567160591483, -0.017073530703783035, 0.06361068040132523, -0.0017097226809710264, 0.01880556158721447, -0.014378667809069157, -0.06265492737293243, -0.019463645294308662, -0.055950526148080826, 0.0055428617633879185, 0.006194734480232, 0.03818002715706825, 0.028061002492904663, -1.4339882000058424e-05, 0.01518180686980486, -0.034203123301267624, 0.05953140929341316, 0.012576604261994362, 0.018674630671739578, 0.02123105339705944, 0.00751159293577075, -0.018730660900473595, 0.027281340211629868, 0.023164426907896996, -0.013658181764185429, -0.02824147790670395, -0.02001671865582466, -0.04465135931968689, 0.018988870084285736, 0.008563579991459846, -0.02831370010972023, -0.004510426428169012, -0.01673976331949234, -0.02250107005238533, -0.011921543627977371, -0.007645143195986748, -0.03357694298028946, 0.02076854556798935, -0.037494540214538574, 0.04931901395320892, 0.0011189235374331474, 0.01029757596552372, 0.009550255723297596, 0.008408822119235992, -0.019084416329860687, -0.029175888746976852, -0.032463978976011276, -0.04481891915202141, 0.01118546910583973, -0.007425615098327398, -0.015777140855789185, 0.0008073054486885667, 0.05407847464084625, 0.02109300158917904, 0.003790226299315691, 0.027923351153731346, -0.07132849097251892, 0.015275138430297375, -0.020488044247031212, -0.008779576048254967, -0.03240077570080757, 0.006182744633406401, -0.03412648290395737, 0.026835404336452484, -0.033389896154403687, -0.011201035231351852, -0.043057311326265335, -0.0255148783326149, 0.042696792632341385, -0.04886641725897789, -0.012979133054614067, 0.00851826649159193, -0.013267453759908676, -0.02504079043865204, -0.010922100394964218, -0.015453162603080273, -0.016406409442424774, 0.04799039289355278, 0.02900698594748974, 0.016584759578108788, 0.025744548067450523, 0.0003291583270765841, 0.005206195637583733, -0.03015391156077385, -0.0012693541357293725, -0.042316075414419174, -0.02515636757016182, 0.022928286343812943, 0.009554591961205006, -0.025533633306622505, 0.027865631505846977, 0.016152141615748405, 0.05523861572146416, -0.06261013448238373, -0.006235400680452585, -0.014897477813065052, -0.032731760293245316, -0.02512546256184578, 0.012179816141724586, -0.03801463171839714, -0.01954914629459381, 0.016748685389757156, 0.009376307018101215, -0.005427592433989048, -0.02781226858496666, -0.03752800449728966, 0.0016784673789516091, -0.03866532817482948, -0.03972773253917694, -0.0003082911134697497, 0.03436429798603058, -0.03677515685558319, -0.012001562863588333, 0.0010682627325877547, 0.05418596416711807, -0.042147938162088394, -0.0006601828499697149, 0.037101492285728455, 0.035767003893852234, -0.053373705595731735, 0.0009011034853756428, 0.0245229322463274, -0.020717628300189972, -0.011920610442757607, 0.01947198621928692, 0.014991032890975475, -0.02045711688697338, 0.04377160966396332, -0.01779273711144924, 0.07803915441036224, -0.01681447960436344, 0.019025662913918495, 0.011717081069946289, 0.014181090518832207, 0.025170166045427322, -0.06449269503355026, -0.014995687641203403, 0.016778919845819473, 0.010581261478364468, 0.00027123853215016425, -0.024165354669094086, 0.045123517513275146, 0.023245180025696754, 0.02009265124797821, 0.026573719456791878, -0.01725405640900135, 0.07775887846946716, -0.020610174164175987, -0.01399812288582325, -0.01643514633178711, 0.025088828057050705, 0.01898401789367199, 0.015206648968160152, 0.007412951439619064, 0.03223412111401558, -0.029002277180552483, 0.02278583124279976, 0.00907845888286829, -0.009294111281633377, -0.013408917002379894, 0.013726763427257538, -0.019449423998594284, -0.004224802833050489, -0.018315628170967102, 0.002869870513677597, -0.004846544470638037, -0.02597619593143463, 0.01592225767672062, 0.02278849668800831, -0.014030719175934792, -0.05043286085128784, 0.0032307107467204332, -0.006890615914016962, -0.0506172813475132, 0.007062528748065233, 0.02742857113480568, 0.034199971705675125, -0.01781335659325123, -0.023583002388477325, -0.029007649049162865, 0.03233097493648529, -0.01075739786028862, -0.06079008802771568, -0.03338463231921196, 0.0035056890919804573, -0.0034819624852389097, 0.0174801517277956, -0.043495696038007736, -0.041976865381002426, -0.0012652644654735923, 0.006609920412302017, 0.036474209278821945, -0.026530394330620766, 0.006855503190308809, -0.0032184110023081303, 0.017181891947984695, 0.005377047695219517, 0.020053943619132042, -0.005736016668379307, -0.09728501737117767, -0.06253896653652191, 0.029877694323658943, -0.03764798492193222, -0.019872335717082024, -0.038981422781944275, -0.055774759501218796, 0.027380095794796944, -0.011443539522588253, -0.015884803608059883, 0.000478062080219388, 0.0199351217597723, -0.01439810823649168, 0.04116172716021538, -0.014227368868887424, -0.0057678441517055035, 0.021283263340592384, -0.004343647044152021, 0.011496257036924362, -0.015012728981673717, 0.018529515713453293, -0.021645445376634598, 0.03813561424612999, 0.006746064405888319, 0.030220292508602142, -0.005615352652966976, 0.08963499218225479, 0.01977083459496498, 0.006310618948191404, 0.018025871366262436, 0.03167537599802017, 0.04448537155985832, 0.0015759860398247838, 0.05607420951128006, 0.04431596398353577, -0.007239824626594782, -0.0006514756823889911, 0.009265745058655739, 0.008575310930609703, 0.007528195157647133, -0.006095253862440586, 0.005750064272433519, 0.0048372563906013966, -0.05933041870594025, -0.0017304124776273966, 0.0054940348491072655, 0.011712167412042618, -0.03490981087088585, -0.04844707250595093, -0.03744426742196083, -0.05403797701001167, 0.0023392941802740097, -0.0009104485507123172, 0.04020802676677704, -0.014959052205085754, 0.0040671685710549355, -0.00475264061242342, -0.03271154686808586, 0.005523929838091135, 0.02346615679562092, 0.07563678175210953, -0.01482660137116909, -0.03347720578312874, 0.027285657823085785, -0.033530887216329575, -0.007338555064052343, -0.06802299618721008, -0.0033411041367799044, 0.012449219822883606, 0.018276333808898926, -0.0578693225979805, -0.04547214135527611, -0.027933796867728233, -0.014980148524045944, 0.012513656169176102, -0.024522138759493828, 0.006730896420776844, -0.003797606797888875, 0.04972930625081062, -0.02051408775150776, -0.0047480082139372826, -0.02386104129254818, 0.005680113099515438, 0.06014944985508919, 0.04242563247680664, 0.008009751327335835, 0.011823141016066074, 0.006342026870697737, 0.008364584296941757, -0.04450138658285141, -0.0577596016228199, -0.018451180309057236, 0.044697150588035583, -0.018687540665268898, -0.03733398765325546, -0.008825679309666157, 0.0052374000661075115, -0.004892903380095959, 0.007294252049177885, -0.0020784197840839624, -0.0017351817805320024, -0.04388241097331047, -0.017801562324166298, 0.011525456793606281, 0.015618585981428623, -0.019411437213420868, 0.019989483058452606, -0.0034886260982602835, 0.007596793584525585, 0.03987308591604233, -0.030445806682109833, 0.050202831625938416, 0.0029569086618721485, -0.02182483673095703, -0.0013714330270886421, 0.04866858944296837, 0.0033535996917635202, 0.015771815553307533, -0.06551545113325119, -0.027844609692692757, 0.03625086322426796, 0.019383469596505165, -0.05729762464761734, -0.018911058083176613, -0.025539658963680267, -0.0021388190798461437, -0.023802485316991806, -0.010933119803667068, 0.009721104986965656, 0.004941017832607031, 0.0012141934130340815, -0.03612630441784859, 0.012584277428686619, 0.00037165015237405896, -0.025408994406461716, -0.009890460409224033, -0.055106714367866516, 0.0178107600659132, -0.030357204377651215, -0.06863512843847275, 0.03889532387256622, -0.022127320989966393, -0.020657090470194817, -0.006473212968558073, 0.004319471772760153, 0.009093772619962692, -0.0041985884308815, 0.03369282931089401, 0.02078121528029442, 0.025337504222989082, -0.00038094716728664935, -0.0436178557574749, 0.027373196557164192, -0.05890265479683876, -0.008591841906309128, 0.029281411319971085, -0.03597453981637955, 0.0021873784717172384, 0.022289376705884933, -0.03325754776597023, 0.04115315526723862, -0.02413264475762844, -0.01552426815032959, -0.04541228339076042, -0.024394044652581215, -0.03379541635513306, 0.015049910172820091, -0.0013894704170525074, -0.006054395344108343, 0.011713800020515919, -0.0039052863139659166, 0.0020868044812232256, -0.023083902895450592, 0.016339793801307678, 0.0027050068601965904, -0.014944705180823803, 0.00665788259357214, -0.012509230524301529, 0.04165302962064743, 0.020099077373743057, 0.02439700998365879, 0.007401805371046066, -0.04039722681045532, -0.01803930290043354, -0.008768396452069283, -0.07180526852607727, -0.006693764589726925, -0.004203738644719124, 0.03538777679204941, 0.02649499848484993, 0.014302925206720829, -0.000385133404051885, 0.03207145258784294, -0.030384989455342293, 0.053309619426727295, -0.012696380726993084, -0.02452710084617138, -0.034534696489572525, -0.030017796903848648, 0.02289641834795475, 0.04174698889255524, 0.026434438303112984, -0.07341424375772476, 0.02340049296617508, -0.02305258996784687, 0.0039799874648451805, -0.01358787715435028, 0.013370334170758724, -0.0343933179974556, 0.01695576310157776, 0.01442911196500063, -0.022421501576900482, -0.043497003614902496, 0.00646582618355751, 0.03402130678296089, -0.005289888940751553, 0.018073173239827156, 0.05526489391922951, 0.04660246893763542, -0.02396291308104992, 0.04288088157773018, -0.011786730960011482, 0.009248485788702965, 0.009778562001883984, 0.02009240910410881, 0.011201090179383755, -0.008000868372619152, 0.022230500355362892, -0.010225880891084671, 0.09433920681476593, -0.003148185322061181, -0.01844155043363571, 0.022859657183289528, -0.006458708085119724, -0.010708341374993324, -0.030540382489562035, -0.011345628648996353, -0.06297583132982254, -0.03227905184030533, 0.008221541531383991, -0.007104131858795881, 0.03102162294089794, -0.014257690869271755, -0.04685676470398903]}\n"
     ]
    }
   ],
   "source": [
    "for item in vbpl_collection.iterator(include_vector=True):\n",
    "    print(item.properties)\n",
    "    print(item.vector)\n",
    "    break"
   ]
  },
  {
   "cell_type": "code",
   "execution_count": 35,
   "metadata": {},
   "outputs": [
    {
     "name": "stdout",
     "output_type": "stream",
     "text": [
      "7296\n",
      "7296\n",
      "2\n"
     ]
    }
   ],
   "source": [
    "count = 0\n",
    "count_vector = 0\n",
    "count_1 = 0\n",
    "for item in vbpl_collection.iterator(include_vector=True):\n",
    "    count += 1\n",
    "    if len(item.vector) == 0:\n",
    "        count_vector += 1\n",
    "    if int(item.properties[\"number\"]) < 15001:\n",
    "        count_1 += 1\n",
    "print(count)\n",
    "print(count_1)\n",
    "print(count_vector)"
   ]
  },
  {
   "cell_type": "markdown",
   "metadata": {},
   "source": [
    "## Fliter query"
   ]
  },
  {
   "cell_type": "code",
   "execution_count": 7,
   "metadata": {},
   "outputs": [
    {
     "data": {
      "text/plain": [
       "60038"
      ]
     },
     "execution_count": 7,
     "metadata": {},
     "output_type": "execute_result"
    }
   ],
   "source": [
    "import json\n",
    "with open(\"E:\\\\Code\\\\DeepLeaning\\\\query_answer.jsonl\", \"r\", encoding=\"utf-8\") as f:\n",
    "    qna_all_data = [json.loads(line) for line in f]\n",
    "len(qna_all_data)"
   ]
  },
  {
   "cell_type": "code",
   "execution_count": 8,
   "metadata": {},
   "outputs": [
    {
     "name": "stdout",
     "output_type": "stream",
     "text": [
      "Processing 1\n",
      "Processing 1001\n",
      "Processing 2001\n",
      "Processing 3001\n",
      "Processing 4001\n",
      "Processing 5001\n",
      "Processing 6001\n",
      "Processing 7001\n",
      "Processing 8001\n",
      "Processing 9001\n",
      "Processing 10001\n",
      "Processing 11001\n",
      "Processing 12001\n",
      "Processing 13001\n",
      "Processing 14001\n",
      "Processing 15001\n",
      "Processing 16001\n",
      "Processing 17001\n",
      "Processing 18001\n",
      "Processing 19001\n",
      "Processing 20001\n",
      "Processing 21001\n",
      "Processing 22001\n",
      "Processing 23001\n",
      "Processing 24001\n",
      "Processing 25001\n",
      "Processing 26001\n",
      "Processing 27001\n",
      "Processing 28001\n",
      "Processing 29001\n",
      "Processing 30001\n",
      "Processing 31001\n",
      "Processing 32001\n",
      "Processing 33001\n",
      "Processing 34001\n",
      "Processing 35001\n",
      "Processing 36001\n",
      "Processing 37001\n",
      "Processing 38001\n",
      "Processing 39001\n",
      "Processing 40001\n",
      "Processing 41001\n",
      "Processing 42001\n",
      "Processing 43001\n",
      "Processing 44001\n",
      "Processing 45001\n",
      "Processing 46001\n",
      "Processing 47001\n",
      "Processing 48001\n",
      "Processing 49001\n",
      "Processing 50001\n",
      "Processing 51001\n",
      "Processing 52001\n",
      "Processing 53001\n",
      "Processing 54001\n",
      "Processing 55001\n",
      "Processing 56001\n",
      "Processing 57001\n",
      "Processing 58001\n",
      "Processing 59001\n",
      "Processing 60001\n"
     ]
    },
    {
     "data": {
      "text/plain": [
       "43162"
      ]
     },
     "execution_count": 8,
     "metadata": {},
     "output_type": "execute_result"
    }
   ],
   "source": [
    "import pickle\n",
    "qna_filtered_data = []\n",
    "\n",
    "for i in range(2):\n",
    "    with open(f\"E:\\\\Code\\\\DeepLeaning\\\\Vietnamese-legal-retriever\\\\data\\\\vbpl_embeddings_bkai_synthetic\\\\qna_embeddings_{i}.pkl\", \"rb\") as f:\n",
    "        question_embeddings = pickle.load(f)\n",
    "    if i == 0:\n",
    "        qna_data = qna_all_data[:30000]\n",
    "    else:\n",
    "        qna_data = qna_all_data[30000:]\n",
    "    for idx, qna in enumerate(qna_data):\n",
    "        if (int(qna[\"number\"]) % 1000) == 1:\n",
    "            print(f\"Processing {qna['number']}\")\n",
    "        question = qna[\"question\"]\n",
    "        response = vbpl_collection.query.near_vector(question_embeddings[idx], limit=40)\n",
    "        \n",
    "        remove_flag = True\n",
    "        for o in response.objects:\n",
    "            if o.properties[\"number\"] == qna[\"answer_idx\"]:\n",
    "            # if o.properties[\"lawid\"] == qna[\"lawid\"]:\n",
    "                remove_flag = False\n",
    "                break\n",
    "        if not remove_flag:\n",
    "            qna_filtered_data.append(qna)\n",
    "\n",
    "len(qna_filtered_data)\n",
    "            "
   ]
  },
  {
   "cell_type": "code",
   "execution_count": 9,
   "metadata": {},
   "outputs": [],
   "source": [
    "with open(\"E:\\\\Code\\\\DeepLeaning\\\\Vietnamese-legal-retriever\\\\data\\\\qna_filtered_data_on_chunkidx.jsonl\", \"w\", encoding=\"utf-8\") as f:\n",
    "    for item in qna_filtered_data:\n",
    "        f.write(json.dumps(item, ensure_ascii=False) + \"\\n\")"
   ]
  },
  {
   "cell_type": "markdown",
   "metadata": {},
   "source": [
    "## Mine the hard negatives"
   ]
  },
  {
   "cell_type": "code",
   "execution_count": 3,
   "metadata": {},
   "outputs": [
    {
     "name": "stdout",
     "output_type": "stream",
     "text": [
      "38845\n"
     ]
    },
    {
     "data": {
      "text/plain": [
       "38845"
      ]
     },
     "execution_count": 3,
     "metadata": {},
     "output_type": "execute_result"
    }
   ],
   "source": [
    "import json\n",
    "import pickle\n",
    "with open(\"E:\\\\Code\\\\DeepLeaning\\\\Vietnamese-legal-retriever\\\\data\\\\qna_filtered_train_data.jsonl\", \"r\", encoding=\"utf-8\") as f:\n",
    "    train_data = [json.loads(line) for line in f]\n",
    "print(len(train_data))\n",
    "\n",
    "with open(\"E:\\\\Code\\\\DeepLeaning\\\\Vietnamese-legal-retriever\\\\data\\\\vbpl_embeddings_bkai_synthetic\\\\qna_train_embeddings.pkl\", \"rb\") as f:\n",
    "    query_embeddings = pickle.load(f)\n",
    "    \n",
    "len(query_embeddings)"
   ]
  },
  {
   "cell_type": "code",
   "execution_count": 4,
   "metadata": {},
   "outputs": [
    {
     "data": {
      "text/plain": [
       "266817"
      ]
     },
     "execution_count": 4,
     "metadata": {},
     "output_type": "execute_result"
    }
   ],
   "source": [
    "import json\n",
    "with open(\"E:\\\\Code\\\\DeepLeaning\\\\chunk_0.jsonl\", 'r', encoding=\"utf-8\") as f:\n",
    "    chunks = [json.loads(line) for line in f]\n",
    "\n",
    "len(chunks)"
   ]
  },
  {
   "cell_type": "code",
   "execution_count": 5,
   "metadata": {},
   "outputs": [
    {
     "data": {
      "text/plain": [
       "194225"
      ]
     },
     "execution_count": 5,
     "metadata": {},
     "output_type": "execute_result"
    }
   ],
   "source": [
    "new_train_data = []\n",
    "neg = []\n",
    "\n",
    "for idx, qna in enumerate(train_data):\n",
    "    question = qna[\"question\"]\n",
    "    answer_idx = int(qna[\"answer_idx\"])\n",
    "    response = vbpl_collection.query.near_vector(query_embeddings[idx], limit=50)\n",
    "    for o in response.objects:\n",
    "        if o.properties[\"lawid\"] != qna[\"lawid\"]:\n",
    "            neg.append(o.properties[\"text\"])\n",
    "        elif abs(int(o.properties[\"number\"]) - int(qna[\"answer_idx\"])) > 10:\n",
    "            neg.append(o.properties[\"text\"])\n",
    "        if len(neg) == 5:\n",
    "            break\n",
    "    for text in neg:\n",
    "        new_train_data.append({\"query\": question, \"pos\": chunks[answer_idx-1]['text'], \"neg\": text})     \n",
    "    neg.clear()\n",
    "    \n",
    "len(new_train_data)\n",
    "    "
   ]
  },
  {
   "cell_type": "code",
   "execution_count": 6,
   "metadata": {},
   "outputs": [],
   "source": [
    "with open(\"E:\\\\Code\\\\DeepLeaning\\\\Vietnamese-legal-retriever\\\\data\\\\qna_train_data_with_neg.json\", \"w\", encoding=\"utf-8\") as f:\n",
    "    json.dump(new_train_data, f, ensure_ascii=False)"
   ]
  },
  {
   "cell_type": "markdown",
   "metadata": {},
   "source": [
    "## Evaluate the accuracy of the vbpl test dataset"
   ]
  },
  {
   "cell_type": "code",
   "execution_count": 7,
   "metadata": {},
   "outputs": [
    {
     "data": {
      "text/plain": [
       "4317"
      ]
     },
     "execution_count": 7,
     "metadata": {},
     "output_type": "execute_result"
    }
   ],
   "source": [
    "import json\n",
    "\n",
    "with open(\"E:\\\\Code\\\\DeepLeaning\\\\Vietnamese-legal-retriever\\\\data\\\\vbpl_data\\\\qna_filtered_test_data.jsonl\", \"r\", encoding=\"utf-8\") as f:\n",
    "    test_data = [json.loads(line) for line in f]\n",
    "    \n",
    "len(test_data)"
   ]
  },
  {
   "cell_type": "code",
   "execution_count": 8,
   "metadata": {},
   "outputs": [
    {
     "data": {
      "text/plain": [
       "4317"
      ]
     },
     "execution_count": 8,
     "metadata": {},
     "output_type": "execute_result"
    }
   ],
   "source": [
    "import pickle\n",
    "\n",
    "with open(\"E:\\\\Code\\\\DeepLeaning\\\\Vietnamese-legal-retriever\\\\data\\\\vbpl_embeddings_bkai_synthetic\\\\qna_test_embeddings.pkl\", \"rb\") as f:\n",
    "    query_embeddings = pickle.load(f)\n",
    "    \n",
    "len(query_embeddings)"
   ]
  },
  {
   "cell_type": "code",
   "execution_count": 9,
   "metadata": {},
   "outputs": [
    {
     "name": "stderr",
     "output_type": "stream",
     "text": [
      "c:\\Users\\legen\\AppData\\Local\\Programs\\Python\\Python312\\Lib\\site-packages\\tqdm\\auto.py:21: TqdmWarning: IProgress not found. Please update jupyter and ipywidgets. See https://ipywidgets.readthedocs.io/en/stable/user_install.html\n",
      "  from .autonotebook import tqdm as notebook_tqdm\n"
     ]
    },
    {
     "name": "stdout",
     "output_type": "stream",
     "text": [
      "WARNING:tensorflow:From c:\\Users\\legen\\AppData\\Local\\Programs\\Python\\Python312\\Lib\\site-packages\\tf_keras\\src\\losses.py:2976: The name tf.losses.sparse_softmax_cross_entropy is deprecated. Please use tf.compat.v1.losses.sparse_softmax_cross_entropy instead.\n",
      "\n"
     ]
    }
   ],
   "source": [
    "from FlagEmbedding import FlagReranker\n",
    "reranker = FlagReranker('BAAI/bge-reranker-v2-m3', use_fp16=True)"
   ]
  },
  {
   "cell_type": "code",
   "execution_count": 9,
   "metadata": {},
   "outputs": [
    {
     "name": "stdout",
     "output_type": "stream",
     "text": [
      "Mrr @ 1:  0.43201297197127636\n",
      "Mrr @ 10:  0.5965576293060658\n",
      "Mrr @ 100:  0.6011447555621537\n",
      "\n",
      "\n",
      "Acc @ 1:  0.43201297197127636\n",
      "Acc @ 10:  0.906648135279129\n",
      "Acc @ 100:  0.9962937224924716\n"
     ]
    }
   ],
   "source": [
    "mrr_100 = []\n",
    "mrr_1 = []\n",
    "mrr_10 = []\n",
    "\n",
    "acc_1 = []\n",
    "acc_10 = []\n",
    "acc_100 = []\n",
    "\n",
    "for idx, question in enumerate(test_data):\n",
    "    query = question[\"question\"]\n",
    "    response = vbpl_collection.query.near_vector(query_embeddings[idx], limit=100)\n",
    "    found_idx = -1\n",
    "    \n",
    "    pair = [[query, item.properties['text']] for item in response.objects]\n",
    "    # scores = reranker.compute_score(pair)\n",
    "    # rerank_objects = [ object[0] for object in sorted(list(zip(response.objects, scores)), key=lambda x: x[1], reverse=True)]\n",
    "    # for idx, object in enumerate(rerank_objects):\n",
    "    for idx, object in enumerate(response.objects):\n",
    "        if object.properties[\"number\"] == question[\"answer_idx\"]:\n",
    "            found_idx = idx\n",
    "            break\n",
    "    if found_idx != -1:\n",
    "        mrr_100.append(1/(found_idx + 1))\n",
    "        acc_100.append(1)\n",
    "        if found_idx == 0:\n",
    "            mrr_1.append(1)\n",
    "            acc_1.append(1)\n",
    "        else:\n",
    "            mrr_1.append(0)\n",
    "            acc_1.append(0)\n",
    "        if found_idx < 10:\n",
    "            mrr_10.append(1/(found_idx + 1))\n",
    "            acc_10.append(1)\n",
    "        else:\n",
    "            mrr_10.append(0)\n",
    "            acc_10.append(0)\n",
    "    else:\n",
    "        mrr_100.append(0)\n",
    "        mrr_1.append(0)\n",
    "        mrr_10.append(0)\n",
    "        acc_100.append(0)\n",
    "        acc_1.append(0)\n",
    "        acc_10.append(0)\n",
    "        \n",
    "mrr_count_1 = sum(mrr_1) / len(mrr_1)\n",
    "\n",
    "mrr_count_10 = sum(mrr_10) / len(mrr_10)\n",
    "    \n",
    "mrr_count_100 = sum(mrr_100) / len(mrr_100)\n",
    "\n",
    "print(\"Mrr @ 1: \", mrr_count_1)\n",
    "print(\"Mrr @ 10: \", mrr_count_10)\n",
    "print(\"Mrr @ 100: \", mrr_count_100)\n",
    "print(\"\\n\")\n",
    "acc_count_1 = sum(acc_1) / len(acc_1)\n",
    "acc_count_10 = sum(acc_10) / len(acc_10)\n",
    "acc_count_100 = sum(acc_100) / len(acc_100)\n",
    "\n",
    "print(\"Acc @ 1: \", acc_count_1)\n",
    "print(\"Acc @ 10: \", acc_count_10)\n",
    "print(\"Acc @ 100: \", acc_count_100)\n",
    "    \n",
    "\n"
   ]
  },
  {
   "cell_type": "markdown",
   "metadata": {},
   "source": [
    "## Close the connection"
   ]
  },
  {
   "cell_type": "code",
   "execution_count": 37,
   "metadata": {},
   "outputs": [],
   "source": [
    "vbpl_client.close()"
   ]
  },
  {
   "cell_type": "code",
   "execution_count": 9,
   "metadata": {},
   "outputs": [
    {
     "data": {
      "text/plain": [
       "4823"
      ]
     },
     "execution_count": 9,
     "metadata": {},
     "output_type": "execute_result"
    }
   ],
   "source": [
    "import json\n",
    "with open(\"E:\\\\Code\\\\DeepLeaning\\\\zalo_qna_train_reformatted.json\", \"r\", encoding=\"utf-8\") as f:\n",
    "    data = json.load(f)\n",
    "    \n",
    "len(data)"
   ]
  },
  {
   "cell_type": "code",
   "execution_count": 7,
   "metadata": {},
   "outputs": [
    {
     "data": {
      "image/png": "[encoded data removed]",
      "text/plain": [
       "<Figure size 1000x600 with 1 Axes>"
      ]
     },
     "metadata": {},
     "output_type": "display_data"
    }
   ],
   "source": [
    "import matplotlib.pyplot as plt\n",
    "import csv\n",
    "\n",
    "# Đường dẫn đến tệp CSV\n",
    "csv_file = 'E:\\\\Code\\\\DeepLeaning\\\\zalo_length_statistics.csv'\n",
    "\n",
    "# Tạo danh sách trống cho trục x và y\n",
    "x = []\n",
    "y = []\n",
    "\n",
    "# Mở tệp CSV và đọc dữ liệu\n",
    "with open(csv_file, 'r') as file:\n",
    "    reader = csv.reader(file)\n",
    "    for row in reader:\n",
    "        x.append(int(row[0]))  # Thêm dữ liệu vào trục x\n",
    "        y.append(int(row[1]))  # Thêm dữ liệu vào trục y\n",
    "\n",
    "# Vẽ biểu đồ cột\n",
    "plt.figure(figsize=(10, 6))\n",
    "plt.bar(x, y, color='blue')  # Đặt màu cột thành xanh dương\n",
    "plt.xlabel('Độ dài chunks (số từ)')\n",
    "plt.ylabel('Tần suất')\n",
    "plt.title('Phân bố độ dài chunks')\n",
    "\n",
    "\n",
    "\n",
    "# Hiển thị biểu đồ\n",
    "plt.show()\n"
   ]
  }
 ],
 "metadata": {
  "kernelspec": {
   "display_name": "legal-retriever",
   "language": "python",
   "name": "python3"
  },
  "language_info": {
   "codemirror_mode": {
    "name": "ipython",
    "version": 3
   },
   "file_extension": ".py",
   "mimetype": "text/x-python",
   "name": "python",
   "nbconvert_exporter": "python",
   "pygments_lexer": "ipython3",
   "version": "3.10.15"
  }
 },
 "nbformat": 4,
 "nbformat_minor": 2
}
